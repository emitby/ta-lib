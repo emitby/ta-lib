{
 "cells": [
  {
   "cell_type": "markdown",
   "metadata": {},
   "source": [
    "Great examples of Bayes Theorem at work from Machine Learning Mastery:  https://machinelearningmastery.com/intuition-for-bayes-theorem-with-worked-examples/"
   ]
  },
  {
   "cell_type": "markdown",
   "metadata": {},
   "source": [
    "Bayes Theorem: Principled way of calculating a \n",
    "conditional probability without the joint probability."
   ]
  },
  {
   "cell_type": "markdown",
   "metadata": {},
   "source": [
    "For example, P(B|A) may be referred to as the True Positive Rate (TPR) or the sensitivity, P(B|not A) may be referred to as the False Positive Rate (FPR), the complement P(not B|not A) may be referred to as the True Negative Rate (TNR) or specificity, and the value we are calculating P(A|B) may be referred to as the Positive Predictive Value (PPV) or precision.\n",
    "\n",
    "    P(not B|not A): True Negative Rate or TNR (specificity).\n",
    "    P(B|not A): False Positive Rate or FPR.\n",
    "    P(not B|A): False Negative Rate or FNR.\n",
    "    P(B|A): True Positive Rate or TPR (sensitivity or recall).\n",
    "    P(A|B): Positive Predictive Value or PPV (precision).\n",
    "\n",
    "For example, we may re-state the calculation using these terms as follows:\n",
    "\n",
    "    PPV = (TPV * P(A)) / (TPR * P(A) + FPR * P(not A))"
   ]
  },
  {
   "cell_type": "code",
   "execution_count": 14,
   "metadata": {},
   "outputs": [],
   "source": [
    "#Calculate Bayesian probability\n",
    "\n",
    "def bayes_theorem1(prob_a, prob_b, prob_b_given_a):\n",
    "    prob_a_given_b = (prob_b_given_a * prob_a) / prob_b\n",
    "    return prob_a_given_b\n",
    "\n",
    "def bayes_theorem2(prob_a, prob_b_given_a, prob_b_given_not_a):\n",
    "    prob_not_a = 1 - prob_a\n",
    "    prob_b = prob_b_given_a * prob_a + prob_b_given_not_a * prob_not_a\n",
    "    prob_a_given_b = (prob_b_given_a * prob_a) / prob_b\n",
    "    return prob_a_given_b\n",
    "\n",
    "def bayes_theorem3(prob_a, prob_b_given_a, \n",
    "                   prob_not_b_given_not_a):\n",
    "    prob_not_a = 1 - prob_a\n",
    "    prob_b_given_not_a = 1 - prob_not_b_given_not_a\n",
    "    prob_b = prob_b_given_a * prob_a + prob_b_given_not_a * prob_not_a\n",
    "    prob_a_given_b = (prob_b_given_a * prob_a) / prob_b\n",
    "    return prob_a_given_b"
   ]
  },
  {
   "cell_type": "markdown",
   "metadata": {},
   "source": [
    "Example 1: Elderly Fall and Death\n",
    "\n",
    "Consider the case where an elderly person (over 80 years of age) falls; what is the probability that they will die from the fall?\n",
    "\n",
    "Let’s assume that the base rate of someone elderly dying P(A) is 10%, and the base rate for elderly people falling P(B) is 5%, and from all elderly people, 7% of those that die had a fall P(B|A)."
   ]
  },
  {
   "cell_type": "code",
   "execution_count": 15,
   "metadata": {},
   "outputs": [
    {
     "name": "stdout",
     "output_type": "stream",
     "text": [
      "P(A|B) = 14.0%\n"
     ]
    }
   ],
   "source": [
    "#Example 1\n",
    "p_a = 0.10\n",
    "p_b = 0.05\n",
    "p_b_given_a = 0.07\n",
    "\n",
    "prob = bayes_theorem1(p_a, p_b, p_b_given_a)\n",
    "print('P(A|B) = %.1f%%' % (prob * 100))"
   ]
  },
  {
   "cell_type": "markdown",
   "metadata": {},
   "source": [
    "Example 2: Email and Spam Detection\n",
    "\n",
    "Consider the case where we receive an email and the spam detector puts it in the spam folder; what is the probability it was spam?\n",
    "\n",
    "Let’s assume some details such as 2 percent of the email we receive is spam P(A). Let’s assume that the spam detector is really good and when an email is spam, it detects it P(B|A) with an accuracy of 99 percent, and when an email is not spam, it will mark it as spam with a very low rate of 0.1 percent P(B|not A)."
   ]
  },
  {
   "cell_type": "code",
   "execution_count": 16,
   "metadata": {},
   "outputs": [
    {
     "name": "stdout",
     "output_type": "stream",
     "text": [
      "P(A|B) = 95.284%\n"
     ]
    }
   ],
   "source": [
    "#Example 2\n",
    "p_a = 0.02\n",
    "p_b_given_a = 0.99\n",
    "p_b_given_not_a = .001\n",
    "\n",
    "prob = bayes_theorem2(p_a, p_b_given_a, p_b_given_not_a)\n",
    "print('P(A|B) = %.3f%%' % (prob * 100))"
   ]
  },
  {
   "cell_type": "markdown",
   "metadata": {},
   "source": [
    "Example 3: Liars and Lie Detectors\n",
    "\n",
    "Consider the case where a person is tested with a lie detector and the test suggests they are lying. What is the probability that the person is indeed lying?\n",
    "\n",
    "Let’s assume some details, such as most people that are tested are telling the truth, such as 98 percent, meaning (1 – 0.98) or 2 percent are liars P(A). Let’s also assume that when someone is lying, that the test can detect them well, but not great, such as 72 percent of the time P(B|A). Let’s also assume that when the machine says they are not lying, this is true 97 percent of the time P(not B | not A)."
   ]
  },
  {
   "cell_type": "code",
   "execution_count": 17,
   "metadata": {},
   "outputs": [
    {
     "name": "stdout",
     "output_type": "stream",
     "text": [
      "P(A|B) = 32.877%\n"
     ]
    }
   ],
   "source": [
    "#Example 3\n",
    "p_a = 0.02\n",
    "p_b_given_a = 0.72\n",
    "p_not_b_given_not_a = 0.97\n",
    "prob = bayes_theorem3(p_a, p_b_given_a, p_not_b_given_not_a)\n",
    "\n",
    "print('P(A|B) = %.3f%%' % (prob * 100))"
   ]
  },
  {
   "cell_type": "code",
   "execution_count": null,
   "metadata": {},
   "outputs": [],
   "source": []
  },
  {
   "cell_type": "code",
   "execution_count": null,
   "metadata": {},
   "outputs": [],
   "source": []
  }
 ],
 "metadata": {
  "kernelspec": {
   "display_name": "Python 3",
   "language": "python",
   "name": "python3"
  },
  "language_info": {
   "codemirror_mode": {
    "name": "ipython",
    "version": 3
   },
   "file_extension": ".py",
   "mimetype": "text/x-python",
   "name": "python",
   "nbconvert_exporter": "python",
   "pygments_lexer": "ipython3",
   "version": "3.7.3"
  }
 },
 "nbformat": 4,
 "nbformat_minor": 2
}
